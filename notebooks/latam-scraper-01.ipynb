{
 "cells": [
  {
   "cell_type": "code",
   "execution_count": 54,
   "id": "e35a0280",
   "metadata": {},
   "outputs": [],
   "source": [
    "from selenium import webdriver"
   ]
  },
  {
   "cell_type": "code",
   "execution_count": 55,
   "id": "93127fcd",
   "metadata": {},
   "outputs": [],
   "source": [
    "url='https://www.latamairlines.com/ar/es/ofertas-vuelos?dataFlight=%7B%22tripTypeSelected%22%3A%7B%22label%22%3A%22Ida+y+Vuelta%22%2C%22value%22%3A%22RT%22%7D%2C%22cabinSelected%22%3A%7B%22label%22%3A%22Economy%22%2C%22value%22%3A%22Economy%22%7D%2C%22passengerSelected%22%3A%7B%22adultQuantity%22%3A1%2C%22childrenQuantity%22%3A0%2C%22infantQuantity%22%3A0%7D%2C%22originSelected%22%3A%7B%22id%22%3A%22EZE_AR_AIRPORT%22%2C%22name%22%3A%22Ezeiza+Intl.%22%2C%22city%22%3A%22Buenos+Aires%22%2C%22cityIsoCode%22%3A%22BUE%22%2C%22country%22%3A%22Argentina%22%2C%22iata%22%3A%22EZE%22%2C%22latitude%22%3A-34.8222%2C%22longitude%22%3A-58.5358%2C%22timezone%22%3A-3%2C%22tz%22%3A%22America%2FBuenos_Aires%22%2C%22type%22%3A%22AIRPORT%22%2C%22countryAlpha2%22%3A%22AR%22%2C%22allAirportsText%22%3Anull%2C%22airportIataCode%22%3A%22EZE%22%7D%2C%22destinationSelected%22%3A%7B%22id%22%3A%22MAD_ES_AIRPORT%22%2C%22name%22%3A%22Barajas+Intl.%22%2C%22city%22%3A%22Madrid%22%2C%22cityIsoCode%22%3A%22MAD%22%2C%22country%22%3A%22Espa%C3%B1a%22%2C%22iata%22%3A%22MAD%22%2C%22latitude%22%3A40.471926%2C%22longitude%22%3A-3.56264%2C%22timezone%22%3A1%2C%22tz%22%3A%22Europe%2FMadrid%22%2C%22type%22%3A%22AIRPORT%22%2C%22countryAlpha2%22%3A%22ES%22%2C%22allAirportsText%22%3Anull%2C%22airportIataCode%22%3A%22MAD%22%7D%2C%22dateGoSelected%22%3A%222022-01-01T15%3A00%3A00.000Z%22%2C%22dateReturnSelected%22%3A%222022-01-15T15%3A00%3A00.000Z%22%2C%22redemption%22%3Afalse%7D'"
   ]
  },
  {
   "cell_type": "code",
   "execution_count": 56,
   "id": "b487f055",
   "metadata": {},
   "outputs": [],
   "source": [
    "options = webdriver.ChromeOptions()\n",
    "options.add_argument('--incognito')\n",
    "driver = webdriver.Chrome(executable_path='../../chromedriver.exe', options=options)"
   ]
  },
  {
   "cell_type": "code",
   "execution_count": 57,
   "id": "7fd117d6",
   "metadata": {},
   "outputs": [],
   "source": [
    "driver.get(url)"
   ]
  },
  {
   "cell_type": "code",
   "execution_count": 58,
   "id": "759fb0a1",
   "metadata": {},
   "outputs": [],
   "source": [
    "vuelos = driver.find_elements_by_xpath('//li[\"@class=flight\"]')"
   ]
  },
  {
   "cell_type": "code",
   "execution_count": 68,
   "id": "da986aa7",
   "metadata": {
    "scrolled": true
   },
   "outputs": [
    {
     "data": {
      "text/plain": [
       "[<selenium.webdriver.remote.webelement.WebElement (session=\"ad09bcaaaf31957ece1240518b1d6d8a\", element=\"e6b03beb-b075-475e-acfb-8ce1c01b9a6a\")>,\n",
       " <selenium.webdriver.remote.webelement.WebElement (session=\"ad09bcaaaf31957ece1240518b1d6d8a\", element=\"1e952582-efc5-43e5-9a8c-e2632697b2d4\")>,\n",
       " <selenium.webdriver.remote.webelement.WebElement (session=\"ad09bcaaaf31957ece1240518b1d6d8a\", element=\"272cb179-8531-49ce-b518-debef9bee40a\")>,\n",
       " <selenium.webdriver.remote.webelement.WebElement (session=\"ad09bcaaaf31957ece1240518b1d6d8a\", element=\"7a5d8043-6698-474b-8b9b-5da3d1c5c53a\")>,\n",
       " <selenium.webdriver.remote.webelement.WebElement (session=\"ad09bcaaaf31957ece1240518b1d6d8a\", element=\"fa126bd4-651a-437d-abe9-1f01aae6073d\")>,\n",
       " <selenium.webdriver.remote.webelement.WebElement (session=\"ad09bcaaaf31957ece1240518b1d6d8a\", element=\"b5b9b838-5417-4bd8-9b95-c5e3f9ab4065\")>,\n",
       " <selenium.webdriver.remote.webelement.WebElement (session=\"ad09bcaaaf31957ece1240518b1d6d8a\", element=\"3b2991c3-dffe-4b5f-9061-4b99958cab12\")>,\n",
       " <selenium.webdriver.remote.webelement.WebElement (session=\"ad09bcaaaf31957ece1240518b1d6d8a\", element=\"9ea3cb5b-9663-497c-bd4d-0f50f0dda09e\")>,\n",
       " <selenium.webdriver.remote.webelement.WebElement (session=\"ad09bcaaaf31957ece1240518b1d6d8a\", element=\"e8fdaea9-090c-4f55-ba37-214015961973\")>,\n",
       " <selenium.webdriver.remote.webelement.WebElement (session=\"ad09bcaaaf31957ece1240518b1d6d8a\", element=\"e9dddc07-dfd9-457f-86ec-12ed6bbfaa92\")>,\n",
       " <selenium.webdriver.remote.webelement.WebElement (session=\"ad09bcaaaf31957ece1240518b1d6d8a\", element=\"bddf8ec3-e6f7-4221-864b-ca70f250d05a\")>,\n",
       " <selenium.webdriver.remote.webelement.WebElement (session=\"ad09bcaaaf31957ece1240518b1d6d8a\", element=\"d672c87e-2256-45ff-ad4a-93dca3d77030\")>,\n",
       " <selenium.webdriver.remote.webelement.WebElement (session=\"ad09bcaaaf31957ece1240518b1d6d8a\", element=\"d1acd952-5da7-41f2-993a-41ac0ba17117\")>,\n",
       " <selenium.webdriver.remote.webelement.WebElement (session=\"ad09bcaaaf31957ece1240518b1d6d8a\", element=\"41275992-07b7-4840-9626-503a02f6814e\")>,\n",
       " <selenium.webdriver.remote.webelement.WebElement (session=\"ad09bcaaaf31957ece1240518b1d6d8a\", element=\"7932c7e2-3b41-4b6d-9911-948c4d250082\")>,\n",
       " <selenium.webdriver.remote.webelement.WebElement (session=\"ad09bcaaaf31957ece1240518b1d6d8a\", element=\"d5c21d9c-c845-4f49-a3e6-a76c60f23e48\")>,\n",
       " <selenium.webdriver.remote.webelement.WebElement (session=\"ad09bcaaaf31957ece1240518b1d6d8a\", element=\"ed68984e-551c-4f01-b77a-49682d0e744e\")>,\n",
       " <selenium.webdriver.remote.webelement.WebElement (session=\"ad09bcaaaf31957ece1240518b1d6d8a\", element=\"d337d16d-486b-440c-a762-b8646e5c2b14\")>,\n",
       " <selenium.webdriver.remote.webelement.WebElement (session=\"ad09bcaaaf31957ece1240518b1d6d8a\", element=\"37dae647-8d6a-40e5-934d-31ba26dc4a6d\")>,\n",
       " <selenium.webdriver.remote.webelement.WebElement (session=\"ad09bcaaaf31957ece1240518b1d6d8a\", element=\"2caa6a11-379c-4dcc-ba95-81f9625dfb73\")>,\n",
       " <selenium.webdriver.remote.webelement.WebElement (session=\"ad09bcaaaf31957ece1240518b1d6d8a\", element=\"9a04e8b4-cf81-4c63-a344-dc9a5ccc403b\")>,\n",
       " <selenium.webdriver.remote.webelement.WebElement (session=\"ad09bcaaaf31957ece1240518b1d6d8a\", element=\"3d3cf126-8b4e-4431-b73d-f7ae63170fbf\")>,\n",
       " <selenium.webdriver.remote.webelement.WebElement (session=\"ad09bcaaaf31957ece1240518b1d6d8a\", element=\"07187e08-2344-4f4a-bc30-dfedd0fc4fa6\")>,\n",
       " <selenium.webdriver.remote.webelement.WebElement (session=\"ad09bcaaaf31957ece1240518b1d6d8a\", element=\"45903c6f-433f-40b8-8387-edf134b98e9a\")>,\n",
       " <selenium.webdriver.remote.webelement.WebElement (session=\"ad09bcaaaf31957ece1240518b1d6d8a\", element=\"324dcc79-6b6c-4e1a-aa3c-adc367ce7156\")>,\n",
       " <selenium.webdriver.remote.webelement.WebElement (session=\"ad09bcaaaf31957ece1240518b1d6d8a\", element=\"57861062-9081-4169-a789-24a57be0fb2e\")>,\n",
       " <selenium.webdriver.remote.webelement.WebElement (session=\"ad09bcaaaf31957ece1240518b1d6d8a\", element=\"2db70a18-c2e9-4b01-81a1-e8fbfeb437a7\")>,\n",
       " <selenium.webdriver.remote.webelement.WebElement (session=\"ad09bcaaaf31957ece1240518b1d6d8a\", element=\"c530021c-c51e-4506-88d2-da655dc04af7\")>,\n",
       " <selenium.webdriver.remote.webelement.WebElement (session=\"ad09bcaaaf31957ece1240518b1d6d8a\", element=\"7d2d9347-23e4-4638-af62-0136cd83ee38\")>]"
      ]
     },
     "execution_count": 68,
     "metadata": {},
     "output_type": "execute_result"
    }
   ],
   "source": [
    "vuelos"
   ]
  },
  {
   "cell_type": "code",
   "execution_count": 69,
   "id": "9c7f49fd",
   "metadata": {},
   "outputs": [
    {
     "data": {
      "text/plain": [
       "<selenium.webdriver.remote.webelement.WebElement (session=\"ad09bcaaaf31957ece1240518b1d6d8a\", element=\"e6b03beb-b075-475e-acfb-8ce1c01b9a6a\")>"
      ]
     },
     "execution_count": 69,
     "metadata": {},
     "output_type": "execute_result"
    }
   ],
   "source": [
    "vuelo = vuelos[0]\n",
    "vuelo"
   ]
  },
  {
   "cell_type": "code",
   "execution_count": 81,
   "id": "b34ac96d",
   "metadata": {},
   "outputs": [
    {
     "data": {
      "text/plain": [
       "[<selenium.webdriver.remote.webelement.WebElement (session=\"ad09bcaaaf31957ece1240518b1d6d8a\", element=\"b3464073-cc6c-4822-9efe-1ebbd9060b41\")>]"
      ]
     },
     "execution_count": 81,
     "metadata": {},
     "output_type": "execute_result"
    }
   ],
   "source": [
    "# flight_info = vuelo.find_elements_by_xpath('.//div[@class=\"sc-geAPOV jbErrY flight-information\"]')\n",
    "flight_info =  driver.find_elements_by_xpath('//*[@id=\"WrapperCardFlight0\"]/div[1]/div[2]/div[1]/div[1]')\n",
    "flight_info"
   ]
  },
  {
   "cell_type": "code",
   "execution_count": null,
   "id": "35b2072b",
   "metadata": {},
   "outputs": [],
   "source": []
  },
  {
   "cell_type": "code",
   "execution_count": 53,
   "id": "f52969e1",
   "metadata": {},
   "outputs": [
    {
     "ename": "WebDriverException",
     "evalue": "Message: chrome not reachable\n  (Session info: chrome=94.0.4606.81)\n",
     "output_type": "error",
     "traceback": [
      "\u001b[0;31m---------------------------------------------------------------------------\u001b[0m",
      "\u001b[0;31mWebDriverException\u001b[0m                        Traceback (most recent call last)",
      "\u001b[0;32m<ipython-input-53-ad0c9a213c39>\u001b[0m in \u001b[0;36m<module>\u001b[0;34m\u001b[0m\n\u001b[0;32m----> 1\u001b[0;31m \u001b[0mdriver\u001b[0m\u001b[0;34m.\u001b[0m\u001b[0mclose\u001b[0m\u001b[0;34m(\u001b[0m\u001b[0;34m)\u001b[0m\u001b[0;34m\u001b[0m\u001b[0;34m\u001b[0m\u001b[0m\n\u001b[0m",
      "\u001b[0;32m~/anaconda3/envs/venv/lib/python3.9/site-packages/selenium/webdriver/remote/webdriver.py\u001b[0m in \u001b[0;36mclose\u001b[0;34m(self)\u001b[0m\n\u001b[1;32m    686\u001b[0m             \u001b[0mdriver\u001b[0m\u001b[0;34m.\u001b[0m\u001b[0mclose\u001b[0m\u001b[0;34m(\u001b[0m\u001b[0;34m)\u001b[0m\u001b[0;34m\u001b[0m\u001b[0;34m\u001b[0m\u001b[0m\n\u001b[1;32m    687\u001b[0m         \"\"\"\n\u001b[0;32m--> 688\u001b[0;31m         \u001b[0mself\u001b[0m\u001b[0;34m.\u001b[0m\u001b[0mexecute\u001b[0m\u001b[0;34m(\u001b[0m\u001b[0mCommand\u001b[0m\u001b[0;34m.\u001b[0m\u001b[0mCLOSE\u001b[0m\u001b[0;34m)\u001b[0m\u001b[0;34m\u001b[0m\u001b[0;34m\u001b[0m\u001b[0m\n\u001b[0m\u001b[1;32m    689\u001b[0m \u001b[0;34m\u001b[0m\u001b[0m\n\u001b[1;32m    690\u001b[0m     \u001b[0;32mdef\u001b[0m \u001b[0mquit\u001b[0m\u001b[0;34m(\u001b[0m\u001b[0mself\u001b[0m\u001b[0;34m)\u001b[0m\u001b[0;34m:\u001b[0m\u001b[0;34m\u001b[0m\u001b[0;34m\u001b[0m\u001b[0m\n",
      "\u001b[0;32m~/anaconda3/envs/venv/lib/python3.9/site-packages/selenium/webdriver/remote/webdriver.py\u001b[0m in \u001b[0;36mexecute\u001b[0;34m(self, driver_command, params)\u001b[0m\n\u001b[1;32m    319\u001b[0m         \u001b[0mresponse\u001b[0m \u001b[0;34m=\u001b[0m \u001b[0mself\u001b[0m\u001b[0;34m.\u001b[0m\u001b[0mcommand_executor\u001b[0m\u001b[0;34m.\u001b[0m\u001b[0mexecute\u001b[0m\u001b[0;34m(\u001b[0m\u001b[0mdriver_command\u001b[0m\u001b[0;34m,\u001b[0m \u001b[0mparams\u001b[0m\u001b[0;34m)\u001b[0m\u001b[0;34m\u001b[0m\u001b[0;34m\u001b[0m\u001b[0m\n\u001b[1;32m    320\u001b[0m         \u001b[0;32mif\u001b[0m \u001b[0mresponse\u001b[0m\u001b[0;34m:\u001b[0m\u001b[0;34m\u001b[0m\u001b[0;34m\u001b[0m\u001b[0m\n\u001b[0;32m--> 321\u001b[0;31m             \u001b[0mself\u001b[0m\u001b[0;34m.\u001b[0m\u001b[0merror_handler\u001b[0m\u001b[0;34m.\u001b[0m\u001b[0mcheck_response\u001b[0m\u001b[0;34m(\u001b[0m\u001b[0mresponse\u001b[0m\u001b[0;34m)\u001b[0m\u001b[0;34m\u001b[0m\u001b[0;34m\u001b[0m\u001b[0m\n\u001b[0m\u001b[1;32m    322\u001b[0m             response['value'] = self._unwrap_value(\n\u001b[1;32m    323\u001b[0m                 response.get('value', None))\n",
      "\u001b[0;32m~/anaconda3/envs/venv/lib/python3.9/site-packages/selenium/webdriver/remote/errorhandler.py\u001b[0m in \u001b[0;36mcheck_response\u001b[0;34m(self, response)\u001b[0m\n\u001b[1;32m    240\u001b[0m                 \u001b[0malert_text\u001b[0m \u001b[0;34m=\u001b[0m \u001b[0mvalue\u001b[0m\u001b[0;34m[\u001b[0m\u001b[0;34m'alert'\u001b[0m\u001b[0;34m]\u001b[0m\u001b[0;34m.\u001b[0m\u001b[0mget\u001b[0m\u001b[0;34m(\u001b[0m\u001b[0;34m'text'\u001b[0m\u001b[0;34m)\u001b[0m\u001b[0;34m\u001b[0m\u001b[0;34m\u001b[0m\u001b[0m\n\u001b[1;32m    241\u001b[0m             \u001b[0;32mraise\u001b[0m \u001b[0mexception_class\u001b[0m\u001b[0;34m(\u001b[0m\u001b[0mmessage\u001b[0m\u001b[0;34m,\u001b[0m \u001b[0mscreen\u001b[0m\u001b[0;34m,\u001b[0m \u001b[0mstacktrace\u001b[0m\u001b[0;34m,\u001b[0m \u001b[0malert_text\u001b[0m\u001b[0;34m)\u001b[0m\u001b[0;34m\u001b[0m\u001b[0;34m\u001b[0m\u001b[0m\n\u001b[0;32m--> 242\u001b[0;31m         \u001b[0;32mraise\u001b[0m \u001b[0mexception_class\u001b[0m\u001b[0;34m(\u001b[0m\u001b[0mmessage\u001b[0m\u001b[0;34m,\u001b[0m \u001b[0mscreen\u001b[0m\u001b[0;34m,\u001b[0m \u001b[0mstacktrace\u001b[0m\u001b[0;34m)\u001b[0m\u001b[0;34m\u001b[0m\u001b[0;34m\u001b[0m\u001b[0m\n\u001b[0m\u001b[1;32m    243\u001b[0m \u001b[0;34m\u001b[0m\u001b[0m\n\u001b[1;32m    244\u001b[0m     \u001b[0;32mdef\u001b[0m \u001b[0m_value_or_default\u001b[0m\u001b[0;34m(\u001b[0m\u001b[0mself\u001b[0m\u001b[0;34m,\u001b[0m \u001b[0mobj\u001b[0m\u001b[0;34m,\u001b[0m \u001b[0mkey\u001b[0m\u001b[0;34m,\u001b[0m \u001b[0mdefault\u001b[0m\u001b[0;34m)\u001b[0m\u001b[0;34m:\u001b[0m\u001b[0;34m\u001b[0m\u001b[0;34m\u001b[0m\u001b[0m\n",
      "\u001b[0;31mWebDriverException\u001b[0m: Message: chrome not reachable\n  (Session info: chrome=94.0.4606.81)\n"
     ]
    }
   ],
   "source": [
    "driver.close()"
   ]
  }
 ],
 "metadata": {
  "kernelspec": {
   "display_name": "Python 3 (ipykernel)",
   "language": "python",
   "name": "python3"
  },
  "language_info": {
   "codemirror_mode": {
    "name": "ipython",
    "version": 3
   },
   "file_extension": ".py",
   "mimetype": "text/x-python",
   "name": "python",
   "nbconvert_exporter": "python",
   "pygments_lexer": "ipython3",
   "version": "3.9.5"
  }
 },
 "nbformat": 4,
 "nbformat_minor": 5
}
